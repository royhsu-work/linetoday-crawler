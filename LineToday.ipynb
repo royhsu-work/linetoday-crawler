{
 "cells": [
  {
   "cell_type": "code",
   "execution_count": 36,
   "id": "eligible-nerve",
   "metadata": {},
   "outputs": [],
   "source": [
    "import requests\n",
    "from bs4 import BeautifulSoup\n",
    "\n",
    "\n",
    "url = 'https://today.line.me/tw/v2/tab'\n",
    "res = requests.get(url)\n",
    "soup = BeautifulSoup(res.text)"
   ]
  },
  {
   "cell_type": "code",
   "execution_count": 37,
   "id": "fifty-conditions",
   "metadata": {},
   "outputs": [],
   "source": [
    "titles = []\n",
    "urls = []\n",
    "publishers = []\n",
    "\n",
    "for i in soup.find_all('a', {'class':'articleCard articleCard--horizontal'}):\n",
    "    urls.append(i['href'])\n",
    "    for j in i.find_all('span', {'class':'articleCard-title text text--d text--greyDarken34 text--medium text--ellipsis2'}):\n",
    "        titles.append(j.text.strip())\n",
    "    for j in i.find_all('span', {'class':'articleCard-description text text--f text--greyLighten12 text--regular text--ellipsis1'}):\n",
    "        publishers.append(j.text)"
   ]
  },
  {
   "cell_type": "code",
   "execution_count": 24,
   "id": "dedicated-surface",
   "metadata": {},
   "outputs": [
    {
     "data": {
      "text/plain": [
       "['台鐵事故\\n    \\n        殉職司機員頭七 今9:28全台列車鳴笛致敬',\n",
       " '老虎伍茲車禍原因曝光 飆速140公里過彎失控',\n",
       " '花152元買自己「假簽名照」 男星喊話：別賣太便宜']"
      ]
     },
     "execution_count": 24,
     "metadata": {},
     "output_type": "execute_result"
    }
   ],
   "source": [
    "titles"
   ]
  },
  {
   "cell_type": "code",
   "execution_count": 25,
   "id": "developed-garage",
   "metadata": {},
   "outputs": [
    {
     "data": {
      "text/plain": [
       "['https://today.line.me/tw/v2/article/qloDKk',\n",
       " 'https://today.line.me/tw/v2/article/11D1Mz',\n",
       " 'https://today.line.me/tw/v2/article/vEXEME']"
      ]
     },
     "execution_count": 25,
     "metadata": {},
     "output_type": "execute_result"
    }
   ],
   "source": [
    "urls"
   ]
  },
  {
   "cell_type": "code",
   "execution_count": 29,
   "id": "usual-hartford",
   "metadata": {},
   "outputs": [
    {
     "data": {
      "text/plain": [
       "['自由電子報', '中廣新聞網', 'CTWANT']"
      ]
     },
     "execution_count": 29,
     "metadata": {},
     "output_type": "execute_result"
    }
   ],
   "source": [
    "publishers"
   ]
  },
  {
   "cell_type": "code",
   "execution_count": 38,
   "id": "hearing-convertible",
   "metadata": {},
   "outputs": [
    {
     "data": {
      "text/html": [
       "<div>\n",
       "<style scoped>\n",
       "    .dataframe tbody tr th:only-of-type {\n",
       "        vertical-align: middle;\n",
       "    }\n",
       "\n",
       "    .dataframe tbody tr th {\n",
       "        vertical-align: top;\n",
       "    }\n",
       "\n",
       "    .dataframe thead th {\n",
       "        text-align: right;\n",
       "    }\n",
       "</style>\n",
       "<table border=\"1\" class=\"dataframe\">\n",
       "  <thead>\n",
       "    <tr style=\"text-align: right;\">\n",
       "      <th></th>\n",
       "      <th>titles</th>\n",
       "      <th>urls</th>\n",
       "      <th>publishers</th>\n",
       "    </tr>\n",
       "  </thead>\n",
       "  <tbody>\n",
       "    <tr>\n",
       "      <th>0</th>\n",
       "      <td>店家受限水影響  財政部：房屋稅可減免</td>\n",
       "      <td>https://today.line.me/tw/v2/article/5Gyx2K</td>\n",
       "      <td>新頭殼</td>\n",
       "    </tr>\n",
       "    <tr>\n",
       "      <th>1</th>\n",
       "      <td>捲入王立強共諜案 向心夫婦涉洗錢罪起訴</td>\n",
       "      <td>https://today.line.me/tw/v2/article/erLmJZ</td>\n",
       "      <td>自由電子報</td>\n",
       "    </tr>\n",
       "    <tr>\n",
       "      <th>2</th>\n",
       "      <td>網毒舌問「看見阿翔再親」 謝忻正面回應</td>\n",
       "      <td>https://today.line.me/tw/v2/article/WvB2jQ</td>\n",
       "      <td>中時新聞網</td>\n",
       "    </tr>\n",
       "  </tbody>\n",
       "</table>\n",
       "</div>"
      ],
      "text/plain": [
       "                titles                                        urls publishers\n",
       "0  店家受限水影響  財政部：房屋稅可減免  https://today.line.me/tw/v2/article/5Gyx2K        新頭殼\n",
       "1  捲入王立強共諜案 向心夫婦涉洗錢罪起訴  https://today.line.me/tw/v2/article/erLmJZ      自由電子報\n",
       "2  網毒舌問「看見阿翔再親」 謝忻正面回應  https://today.line.me/tw/v2/article/WvB2jQ      中時新聞網"
      ]
     },
     "execution_count": 38,
     "metadata": {},
     "output_type": "execute_result"
    }
   ],
   "source": [
    "import pandas as pd\n",
    "\n",
    "df = pd.DataFrame(zip(titles, urls, publishers), columns=['titles', 'urls', 'publishers'])\n",
    "df"
   ]
  },
  {
   "cell_type": "code",
   "execution_count": 39,
   "id": "hundred-challenge",
   "metadata": {},
   "outputs": [],
   "source": [
    "df.to_csv('output.csv', index=False)"
   ]
  },
  {
   "cell_type": "code",
   "execution_count": null,
   "id": "vocational-patent",
   "metadata": {},
   "outputs": [],
   "source": []
  }
 ],
 "metadata": {
  "kernelspec": {
   "display_name": "Python 3",
   "language": "python",
   "name": "python3"
  },
  "language_info": {
   "codemirror_mode": {
    "name": "ipython",
    "version": 3
   },
   "file_extension": ".py",
   "mimetype": "text/x-python",
   "name": "python",
   "nbconvert_exporter": "python",
   "pygments_lexer": "ipython3",
   "version": "3.8.6"
  }
 },
 "nbformat": 4,
 "nbformat_minor": 5
}
